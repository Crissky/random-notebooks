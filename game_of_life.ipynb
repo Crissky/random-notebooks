{
  "nbformat": 4,
  "nbformat_minor": 0,
  "metadata": {
    "colab": {
      "name": "game_of_life.ipynb",
      "provenance": [],
      "collapsed_sections": [],
      "authorship_tag": "ABX9TyM3G4qA2qawvNnXre+vj//e"
    },
    "kernelspec": {
      "name": "python3",
      "display_name": "Python 3"
    },
    "language_info": {
      "name": "python"
    }
  },
  "cells": [
    {
      "cell_type": "markdown",
      "source": [
        "# Funções"
      ],
      "metadata": {
        "id": "j-UPKgBYwQqV"
      }
    },
    {
      "cell_type": "code",
      "source": [
        "from time import sleep\n",
        "from IPython.display import clear_output\n",
        "from random import randint"
      ],
      "metadata": {
        "id": "MtxLz39E2o1O"
      },
      "execution_count": 1,
      "outputs": []
    },
    {
      "cell_type": "code",
      "execution_count": 2,
      "metadata": {
        "id": "DvVob_HBtgY0"
      },
      "outputs": [],
      "source": [
        "def print2dArr(grid):\n",
        "    p = len(grid)\n",
        "    q = len(grid[0])\n",
        " \n",
        "    for i in range(p):\n",
        "        for j in range(q):\n",
        "            value = grid[i][j]\n",
        "            if value == 0:\n",
        "                print('□', end='')\n",
        "            else:\n",
        "                print('■', end='')\n",
        " \n",
        "        print()\n",
        "\n",
        "\n",
        "def save(grid, row, col):\n",
        "    return (len(grid) > row and len(grid[0]) > col and row >= 0 and col >= 0)\n",
        "\n",
        "\n",
        "def random_grid(num_rows=3, num_columns=4):\n",
        "    return [[randint(0,1) for column in range(num_columns)] for row in range(num_rows)]\n",
        "\n",
        "\n",
        "def solve(grid):\n",
        "    p = len(grid)\n",
        "    q = len(grid[0])\n",
        "    u = [-1,-1,-1, 0, 0, 1, 1, 1]\n",
        "    v = [-1, 0, 1,-1, 1,-1, 0, 1]\n",
        "    for i in range(p):\n",
        "        for j in range(q):\n",
        "            # IF the initial value\n",
        "            # of the grid(i, j) is 1\n",
        "            if (grid[i][j] > 0):\n",
        "                for k in range(8):\n",
        "                    if (save(grid, i + u[k], j + v[k]) and grid[i + u[k]][j + v[k]] > 0):\n",
        "                        # If initial value > 0,\n",
        "                        # just increment it by 1\n",
        "                        grid[i][j] += 1\n",
        " \n",
        "            # IF the initial value\n",
        "            # of the grid(i, j) is 0\n",
        "            else:\n",
        "                for k in range(8):\n",
        "                    if (save(grid, i + u[k], j + v[k]) and grid[i + u[k]][j + v[k]] > 0):\n",
        "                        # If initial value <= 0\n",
        "                        # just decrement it by 1\n",
        "                        grid[i][j] -= 1\n",
        "    # Generating new Generation.\n",
        "    # Now the magnitude of the\n",
        "    # grid will represent number\n",
        "    # of neighbours\n",
        "    for i in range(p):\n",
        "        for j in range(q):\n",
        "            # If initial value was 1.\n",
        "            if (grid[i][j] > 0):\n",
        "                # Since Any live cell with\n",
        "                # < 2 live neighbors dies\n",
        "                if (grid[i][j] < 3):\n",
        "                    grid[i][j] = 0\n",
        " \n",
        "                # Since Any live cell with\n",
        "                # 2 or 3 live neighbors live\n",
        "                elif (grid[i][j] <= 4):\n",
        "                    grid[i][j] = 1\n",
        " \n",
        "                # Since Any live cell with\n",
        "                # > 3 live neighbors dies\n",
        "                elif (grid[i][j] > 4):\n",
        "                    grid[i][j] = 0\n",
        " \n",
        "            else:\n",
        "                # Since Any dead cell with\n",
        "                # exactly 3 live neighbors\n",
        "                # becomes a live cell\n",
        "                if (grid[i][j] == -3):\n",
        "                    grid[i][j] = 1\n",
        "                else:\n",
        "                    grid[i][j] = 0"
      ]
    },
    {
      "cell_type": "code",
      "source": [
        "grid = random_grid(25, 50)\n",
        " \n",
        "for i in range(100):\n",
        "    # Function to generate\n",
        "    # New Generation inplace\n",
        "    solve(grid)\n",
        "\n",
        "    # Displaying the grid\n",
        "    clear_output()\n",
        "    print(f'Generation: {i}\\n')\n",
        "    print2dArr(grid)\n",
        "    sleep(1)"
      ],
      "metadata": {
        "colab": {
          "base_uri": "https://localhost:8080/"
        },
        "id": "ZFgLB0NOwSga",
        "outputId": "6d427205-251b-42f6-8b92-c8bb4a91f80d"
      },
      "execution_count": 3,
      "outputs": [
        {
          "output_type": "stream",
          "name": "stdout",
          "text": [
            "Generation: 99\n",
            "\n",
            "□□□□□□□□□□□□□□□□□□□□□□□□□□□□□□□□□□□□□□□□□□□□□□□□□□\n",
            "□□□□□□□□□□□□□□□□□□□□□□□□□□□□□□□□□□□■□□□□□□□□□□□□□□\n",
            "□□□□□□□□□□□□□□□□□□□□□□□□□□□□□□□□□□■□■□□□□□□□□□□□□□\n",
            "□□□□□□□□□□□□□□□□□□□□□□□□□□□□□□□□□■□□□□□□□□□□□□□□□□\n",
            "□□□□□□□□□□□□□□□□□□□□□□□□□□□□□□□□□□■□□■■□□□□□□□□□□□\n",
            "□□□□□□□□□□□□□□□□□□□□□□□□□□□□□□□□□□□■■■■■■□□□□□□□□□\n",
            "□□□□□□□□□□□□□□□□□□□□□□□□□□□□□□□□□□□□□□■□□■□□□□□□□□\n",
            "□□□□□□□□□□□□□□□□□□□□□□□□□□□□□□□□□□□□□□□□□■□□□□□□□□\n",
            "□□□□□□□□□□□□□□□□□□□□□□□□□□□□□□□□□■■□□□■□□□□□□□□□□□\n",
            "□□□□□□□□□□□□□□□□□□□□□□□■■□□□□□□□■□■□□■□□□□□□□□□□■□\n",
            "□□□□□□□□□□□□□□□□□□□□□□■□□■□□□□□□■■□■□□□□□□□□□□□■□■\n",
            "□□□□□□□□□□□□□□□□□□□□□■■□□□□□□□□□□□■■□■□■□□□□□□□■□■\n",
            "□□□□□□□□□□□□□□□□□□□□□■□□□■□□□□□□□□□□□□■□□□□□□□□□■□\n",
            "□□□□□□□□□□□□□□□□□□□□□■□□□□□□□□□□□□□□□□□□□□□□□□□□□□\n",
            "□■□□□□□□□□□□□□□□□□□□□■□□■□□□□□□□□□□□□□□□□□□□□□□□□□\n",
            "■□■□□□□□□□□□□□□□□□■■□□□□□□□■□□□□□□□□□□□□□□□□□□□□□□\n",
            "■□■□□□□□□□□□□□□□□□□□□□□□□■■□■□□□□□□□□□□□□□□□□□□□□□\n",
            "□■□□□□□□□□□□□□□□□□□□□□■■□■□■□□□□□□□□□□□□□□□□□□□□□□\n",
            "□□□□□□□□□□□□□□□□■□□□□□□□■■□■■■□□□□□□□□□□□□□□□□□■■□\n",
            "□□□□□□□□□□□□□□□□■□■□□□□□□□■■□■■□□□□□□□□□□□□□□□■□■□\n",
            "□□□□□□□□□□□□□□□□□■□□□□□□□□□■■□□■□□□□□□□□□□□□□□□■□□\n",
            "□□□□□□□□□□□□□□□□□□□□□□□□□□□□□■■■□□□□□□□□□□□□□□□□□□\n",
            "□□□□□□□□□□□□□□□□□□□□□□□□□□■■■□□□□□□□□□□□□□□□□□□□□□\n",
            "□□□□□□□□□□□□□□□□□□□□□□□□□□■■■□□□□□□□□□□□□□□□□□□□□□\n",
            "□□□□□□□□□□□□□□□□□□□□□□□□□□□□□□□□□□□□□□□□□□□□□□□□□□\n"
          ]
        }
      ]
    }
  ]
}